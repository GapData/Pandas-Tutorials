{
 "cells": [
  {
   "cell_type": "code",
   "execution_count": 1,
   "metadata": {
    "collapsed": true
   },
   "outputs": [],
   "source": [
    "import pandas as pd\n",
    "import numpy as np"
   ]
  },
  {
   "cell_type": "markdown",
   "metadata": {},
   "source": [
    "https://stackoverflow.com/questions/34304649/iterate-date-range-using-python-pandas"
   ]
  },
  {
   "cell_type": "markdown",
   "metadata": {},
   "source": [
    "<pre><code>     ID        ArCityArCountry      DptCityDptCountry  EndDate StartDate\n",
    "0  1922            ParisFrance     NewYorkUnitedState  3/10/08    2/2/01\n",
    "1  1002  LosAngelesUnitedState      ForidaUnitedState  3/10/08   12/1/08\n",
    "2  1901            ParisFrance           LagosNigeria   3/5/01    2/2/01\n",
    "3  1922            ParisFrance     NewYorkUnitedState   2/3/11   12/1/08\n",
    "4  1002            ParisFrance  CaliforniaUnitedState   3/4/03    3/4/02\n",
    "5  1099            ParisFrance           BeijingChina   2/3/11    2/4/09\n",
    "6  1901  LosAngelesUnitedState            ParisFrance   3/5/01    2/2/01\n",
    "</code></pre>"
   ]
  },
  {
   "cell_type": "code",
   "execution_count": 57,
   "metadata": {
    "collapsed": true
   },
   "outputs": [],
   "source": [
    "df = pd.read_clipboard()"
   ]
  },
  {
   "cell_type": "code",
   "execution_count": 58,
   "metadata": {
    "collapsed": false
   },
   "outputs": [
    {
     "data": {
      "text/html": [
       "<div>\n",
       "<table border=\"1\" class=\"dataframe\">\n",
       "  <thead>\n",
       "    <tr style=\"text-align: right;\">\n",
       "      <th></th>\n",
       "      <th>ID</th>\n",
       "      <th>ArCityArCountry</th>\n",
       "      <th>DptCityDptCountry</th>\n",
       "      <th>EndDate</th>\n",
       "      <th>StartDate</th>\n",
       "    </tr>\n",
       "  </thead>\n",
       "  <tbody>\n",
       "    <tr>\n",
       "      <th>0</th>\n",
       "      <td>1922</td>\n",
       "      <td>ParisFrance</td>\n",
       "      <td>NewYorkUnitedState</td>\n",
       "      <td>3/10/08</td>\n",
       "      <td>2/2/01</td>\n",
       "    </tr>\n",
       "    <tr>\n",
       "      <th>1</th>\n",
       "      <td>1002</td>\n",
       "      <td>LosAngelesUnitedState</td>\n",
       "      <td>ForidaUnitedState</td>\n",
       "      <td>3/10/08</td>\n",
       "      <td>12/1/08</td>\n",
       "    </tr>\n",
       "    <tr>\n",
       "      <th>2</th>\n",
       "      <td>1901</td>\n",
       "      <td>ParisFrance</td>\n",
       "      <td>LagosNigeria</td>\n",
       "      <td>3/5/01</td>\n",
       "      <td>2/2/01</td>\n",
       "    </tr>\n",
       "    <tr>\n",
       "      <th>3</th>\n",
       "      <td>1922</td>\n",
       "      <td>ParisFrance</td>\n",
       "      <td>NewYorkUnitedState</td>\n",
       "      <td>2/3/11</td>\n",
       "      <td>12/1/08</td>\n",
       "    </tr>\n",
       "    <tr>\n",
       "      <th>4</th>\n",
       "      <td>1002</td>\n",
       "      <td>ParisFrance</td>\n",
       "      <td>CaliforniaUnitedState</td>\n",
       "      <td>3/4/03</td>\n",
       "      <td>3/4/02</td>\n",
       "    </tr>\n",
       "    <tr>\n",
       "      <th>5</th>\n",
       "      <td>1099</td>\n",
       "      <td>ParisFrance</td>\n",
       "      <td>BeijingChina</td>\n",
       "      <td>2/3/11</td>\n",
       "      <td>2/4/09</td>\n",
       "    </tr>\n",
       "    <tr>\n",
       "      <th>6</th>\n",
       "      <td>1901</td>\n",
       "      <td>LosAngelesUnitedState</td>\n",
       "      <td>ParisFrance</td>\n",
       "      <td>3/5/01</td>\n",
       "      <td>2/2/01</td>\n",
       "    </tr>\n",
       "  </tbody>\n",
       "</table>\n",
       "</div>"
      ],
      "text/plain": [
       "     ID        ArCityArCountry      DptCityDptCountry  EndDate StartDate\n",
       "0  1922            ParisFrance     NewYorkUnitedState  3/10/08    2/2/01\n",
       "1  1002  LosAngelesUnitedState      ForidaUnitedState  3/10/08   12/1/08\n",
       "2  1901            ParisFrance           LagosNigeria   3/5/01    2/2/01\n",
       "3  1922            ParisFrance     NewYorkUnitedState   2/3/11   12/1/08\n",
       "4  1002            ParisFrance  CaliforniaUnitedState   3/4/03    3/4/02\n",
       "5  1099            ParisFrance           BeijingChina   2/3/11    2/4/09\n",
       "6  1901  LosAngelesUnitedState            ParisFrance   3/5/01    2/2/01"
      ]
     },
     "execution_count": 58,
     "metadata": {},
     "output_type": "execute_result"
    }
   ],
   "source": [
    "df"
   ]
  },
  {
   "cell_type": "code",
   "execution_count": 59,
   "metadata": {
    "collapsed": true
   },
   "outputs": [],
   "source": [
    "df.EndDate = pd.to_datetime(df.EndDate)\n",
    "df.StartDate = pd.to_datetime(df.StartDate)\n",
    "df = df.set_index('StartDate')"
   ]
  },
  {
   "cell_type": "code",
   "execution_count": 60,
   "metadata": {
    "collapsed": false
   },
   "outputs": [
    {
     "data": {
      "text/html": [
       "<div>\n",
       "<table border=\"1\" class=\"dataframe\">\n",
       "  <thead>\n",
       "    <tr style=\"text-align: right;\">\n",
       "      <th></th>\n",
       "      <th>ID</th>\n",
       "      <th>ArCityArCountry</th>\n",
       "      <th>DptCityDptCountry</th>\n",
       "      <th>EndDate</th>\n",
       "    </tr>\n",
       "    <tr>\n",
       "      <th>StartDate</th>\n",
       "      <th></th>\n",
       "      <th></th>\n",
       "      <th></th>\n",
       "      <th></th>\n",
       "    </tr>\n",
       "  </thead>\n",
       "  <tbody>\n",
       "    <tr>\n",
       "      <th>2001-02-02</th>\n",
       "      <td>1922</td>\n",
       "      <td>ParisFrance</td>\n",
       "      <td>NewYorkUnitedState</td>\n",
       "      <td>2008-03-10</td>\n",
       "    </tr>\n",
       "    <tr>\n",
       "      <th>2008-12-01</th>\n",
       "      <td>1002</td>\n",
       "      <td>LosAngelesUnitedState</td>\n",
       "      <td>ForidaUnitedState</td>\n",
       "      <td>2008-03-10</td>\n",
       "    </tr>\n",
       "    <tr>\n",
       "      <th>2001-02-02</th>\n",
       "      <td>1901</td>\n",
       "      <td>ParisFrance</td>\n",
       "      <td>LagosNigeria</td>\n",
       "      <td>2001-03-05</td>\n",
       "    </tr>\n",
       "    <tr>\n",
       "      <th>2008-12-01</th>\n",
       "      <td>1922</td>\n",
       "      <td>ParisFrance</td>\n",
       "      <td>NewYorkUnitedState</td>\n",
       "      <td>2011-02-03</td>\n",
       "    </tr>\n",
       "    <tr>\n",
       "      <th>2002-03-04</th>\n",
       "      <td>1002</td>\n",
       "      <td>ParisFrance</td>\n",
       "      <td>CaliforniaUnitedState</td>\n",
       "      <td>2003-03-04</td>\n",
       "    </tr>\n",
       "    <tr>\n",
       "      <th>2009-02-04</th>\n",
       "      <td>1099</td>\n",
       "      <td>ParisFrance</td>\n",
       "      <td>BeijingChina</td>\n",
       "      <td>2011-02-03</td>\n",
       "    </tr>\n",
       "    <tr>\n",
       "      <th>2001-02-02</th>\n",
       "      <td>1901</td>\n",
       "      <td>LosAngelesUnitedState</td>\n",
       "      <td>ParisFrance</td>\n",
       "      <td>2001-03-05</td>\n",
       "    </tr>\n",
       "  </tbody>\n",
       "</table>\n",
       "</div>"
      ],
      "text/plain": [
       "              ID        ArCityArCountry      DptCityDptCountry    EndDate\n",
       "StartDate                                                                \n",
       "2001-02-02  1922            ParisFrance     NewYorkUnitedState 2008-03-10\n",
       "2008-12-01  1002  LosAngelesUnitedState      ForidaUnitedState 2008-03-10\n",
       "2001-02-02  1901            ParisFrance           LagosNigeria 2001-03-05\n",
       "2008-12-01  1922            ParisFrance     NewYorkUnitedState 2011-02-03\n",
       "2002-03-04  1002            ParisFrance  CaliforniaUnitedState 2003-03-04\n",
       "2009-02-04  1099            ParisFrance           BeijingChina 2011-02-03\n",
       "2001-02-02  1901  LosAngelesUnitedState            ParisFrance 2001-03-05"
      ]
     },
     "execution_count": 60,
     "metadata": {},
     "output_type": "execute_result"
    }
   ],
   "source": [
    "df"
   ]
  },
  {
   "cell_type": "code",
   "execution_count": 61,
   "metadata": {
    "collapsed": true
   },
   "outputs": [],
   "source": [
    "new_df = pd.DataFrame()"
   ]
  },
  {
   "cell_type": "code",
   "execution_count": 62,
   "metadata": {
    "collapsed": false
   },
   "outputs": [
    {
     "name": "stdout",
     "output_type": "stream",
     "text": [
      "              ID ArCityArCountry   DptCityDptCountry              EndDate\n",
      "2001-02-02  1922     ParisFrance  NewYorkUnitedState  2008-03-10 00:00:00\n",
      "              ID        ArCityArCountry  DptCityDptCountry  \\\n",
      "2008-12-01  1002  LosAngelesUnitedState  ForidaUnitedState   \n",
      "\n",
      "                        EndDate  \n",
      "2008-12-01  2008-03-10 00:00:00  \n",
      "              ID ArCityArCountry DptCityDptCountry              EndDate\n",
      "2001-02-02  1901     ParisFrance      LagosNigeria  2001-03-05 00:00:00\n",
      "              ID ArCityArCountry   DptCityDptCountry              EndDate\n",
      "2008-12-01  1922     ParisFrance  NewYorkUnitedState  2011-02-03 00:00:00\n",
      "              ID ArCityArCountry      DptCityDptCountry              EndDate\n",
      "2002-03-04  1002     ParisFrance  CaliforniaUnitedState  2003-03-04 00:00:00\n",
      "              ID ArCityArCountry DptCityDptCountry              EndDate\n",
      "2009-02-04  1099     ParisFrance      BeijingChina  2011-02-03 00:00:00\n",
      "              ID        ArCityArCountry DptCityDptCountry              EndDate\n",
      "2001-02-02  1901  LosAngelesUnitedState       ParisFrance  2001-03-05 00:00:00\n"
     ]
    }
   ],
   "source": [
    "for i, data in df.iterrows():\n",
    "\n",
    "    print data.to_frame().transpose()"
   ]
  },
  {
   "cell_type": "code",
   "execution_count": 63,
   "metadata": {
    "collapsed": false
   },
   "outputs": [],
   "source": [
    "for i, data in df.iterrows():\n",
    "    data = data.to_frame().transpose()\n",
    "    data = data.reindex(pd.date_range(start=data.index[0], end=data.EndDate[0])).fillna(method='ffill').reset_index().rename(columns={'index': 'Date'}).drop('EndDate', axis = 1)\n",
    "    new_df = pd.concat([new_df, data])"
   ]
  },
  {
   "cell_type": "code",
   "execution_count": 67,
   "metadata": {
    "collapsed": false
   },
   "outputs": [],
   "source": [
    "df = new_df.set_index('Date')"
   ]
  },
  {
   "cell_type": "code",
   "execution_count": 74,
   "metadata": {
    "collapsed": false
   },
   "outputs": [],
   "source": [
    "grouped = df.groupby([lambda x: x.year,'ArCityArCountry'])"
   ]
  },
  {
   "cell_type": "code",
   "execution_count": 75,
   "metadata": {
    "collapsed": false
   },
   "outputs": [
    {
     "data": {
      "text/html": [
       "<div>\n",
       "<table border=\"1\" class=\"dataframe\">\n",
       "  <thead>\n",
       "    <tr style=\"text-align: right;\">\n",
       "      <th></th>\n",
       "      <th></th>\n",
       "      <th>ID</th>\n",
       "    </tr>\n",
       "    <tr>\n",
       "      <th></th>\n",
       "      <th>ArCityArCountry</th>\n",
       "      <th></th>\n",
       "    </tr>\n",
       "  </thead>\n",
       "  <tbody>\n",
       "    <tr>\n",
       "      <th rowspan=\"2\" valign=\"top\">2001</th>\n",
       "      <th>LosAngelesUnitedState</th>\n",
       "      <td>60832.0</td>\n",
       "    </tr>\n",
       "    <tr>\n",
       "      <th>ParisFrance</th>\n",
       "      <td>700858.0</td>\n",
       "    </tr>\n",
       "    <tr>\n",
       "      <th>2002</th>\n",
       "      <th>ParisFrance</th>\n",
       "      <td>1005136.0</td>\n",
       "    </tr>\n",
       "    <tr>\n",
       "      <th>2003</th>\n",
       "      <th>ParisFrance</th>\n",
       "      <td>764656.0</td>\n",
       "    </tr>\n",
       "    <tr>\n",
       "      <th>2004</th>\n",
       "      <th>ParisFrance</th>\n",
       "      <td>703452.0</td>\n",
       "    </tr>\n",
       "    <tr>\n",
       "      <th>2005</th>\n",
       "      <th>ParisFrance</th>\n",
       "      <td>701530.0</td>\n",
       "    </tr>\n",
       "    <tr>\n",
       "      <th>2006</th>\n",
       "      <th>ParisFrance</th>\n",
       "      <td>701530.0</td>\n",
       "    </tr>\n",
       "    <tr>\n",
       "      <th>2007</th>\n",
       "      <th>ParisFrance</th>\n",
       "      <td>701530.0</td>\n",
       "    </tr>\n",
       "    <tr>\n",
       "      <th>2008</th>\n",
       "      <th>ParisFrance</th>\n",
       "      <td>194122.0</td>\n",
       "    </tr>\n",
       "    <tr>\n",
       "      <th>2009</th>\n",
       "      <th>ParisFrance</th>\n",
       "      <td>1065299.0</td>\n",
       "    </tr>\n",
       "    <tr>\n",
       "      <th>2010</th>\n",
       "      <th>ParisFrance</th>\n",
       "      <td>1102665.0</td>\n",
       "    </tr>\n",
       "    <tr>\n",
       "      <th>2011</th>\n",
       "      <th>ParisFrance</th>\n",
       "      <td>102714.0</td>\n",
       "    </tr>\n",
       "  </tbody>\n",
       "</table>\n",
       "</div>"
      ],
      "text/plain": [
       "                                   ID\n",
       "     ArCityArCountry                 \n",
       "2001 LosAngelesUnitedState    60832.0\n",
       "     ParisFrance             700858.0\n",
       "2002 ParisFrance            1005136.0\n",
       "2003 ParisFrance             764656.0\n",
       "2004 ParisFrance             703452.0\n",
       "2005 ParisFrance             701530.0\n",
       "2006 ParisFrance             701530.0\n",
       "2007 ParisFrance             701530.0\n",
       "2008 ParisFrance             194122.0\n",
       "2009 ParisFrance            1065299.0\n",
       "2010 ParisFrance            1102665.0\n",
       "2011 ParisFrance             102714.0"
      ]
     },
     "execution_count": 75,
     "metadata": {},
     "output_type": "execute_result"
    }
   ],
   "source": [
    "grouped.sum()"
   ]
  },
  {
   "cell_type": "code",
   "execution_count": null,
   "metadata": {
    "collapsed": true
   },
   "outputs": [],
   "source": []
  }
 ],
 "metadata": {
  "kernelspec": {
   "display_name": "Python 2",
   "language": "python",
   "name": "python2"
  },
  "language_info": {
   "codemirror_mode": {
    "name": "ipython",
    "version": 2
   },
   "file_extension": ".py",
   "mimetype": "text/x-python",
   "name": "python",
   "nbconvert_exporter": "python",
   "pygments_lexer": "ipython2",
   "version": "2.7.11"
  }
 },
 "nbformat": 4,
 "nbformat_minor": 0
}
